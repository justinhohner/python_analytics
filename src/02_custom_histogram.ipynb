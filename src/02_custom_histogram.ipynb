{
 "cells": [
  {
   "cell_type": "code",
   "execution_count": null,
   "metadata": {},
   "outputs": [],
   "source": [
    "import pandas as pd\n",
    "from IPython.display import display, HTML\n",
    "import matplotlib.pyplot as plt\n",
    "\n",
    "orders_df = pd.read_csv('data/superstore_orders.csv', parse_dates=['Order Date', 'Ship Date'])\n",
    "\n",
    "#orders_df['Profit'].hist()\n",
    "purchase_patterns = orders_df[['Profit','Order Date']]\n",
    "Q1 = purchase_patterns['Profit'].quantile(0.25)\n",
    "Q3 = purchase_patterns['Profit'].quantile(0.75)\n",
    "IQR = Q3 - Q1\n",
    "\n",
    "# Filtering Values between Q1-1.5IQR and Q3+1.5IQR\n",
    "filtered = purchase_patterns.query('(@Q1 - 1.5 * @IQR) <= Profit <= (@Q3 + 1.5 * @IQR)')\n",
    "#display(filtered)\n",
    "purchase_patterns = filtered[['Profit','Order Date']]\n",
    "purchase_plot = purchase_patterns['Profit'].hist(bins='auto')\n",
    "purchase_plot.set_title(\"Purchase Patterns\")\n",
    "purchase_plot.set_xlabel(\"Profit Amount($)\")\n",
    "purchase_plot.set_ylabel(\"Number of orders\")"
   ]
  },
  {
   "cell_type": "code",
   "execution_count": null,
   "metadata": {},
   "outputs": [],
   "source": []
  }
 ],
 "metadata": {
  "kernelspec": {
   "display_name": "Python 3",
   "language": "python",
   "name": "python3"
  },
  "language_info": {
   "codemirror_mode": {
    "name": "ipython",
    "version": 3
   },
   "file_extension": ".py",
   "mimetype": "text/x-python",
   "name": "python",
   "nbconvert_exporter": "python",
   "pygments_lexer": "ipython3",
   "version": "3.7.6"
  }
 },
 "nbformat": 4,
 "nbformat_minor": 4
}
